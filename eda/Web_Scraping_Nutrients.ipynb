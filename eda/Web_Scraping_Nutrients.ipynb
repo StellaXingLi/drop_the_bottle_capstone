{
 "cells": [
  {
   "cell_type": "markdown",
   "metadata": {},
   "source": [
    "### Web scraping with Selenium \n",
    "for missing nutritional values in Anglian Tap Water, since this data is missing in the water quality dataset <br>\n",
    "from: https://waterquality.anglianwater.com/map.aspx\n",
    "<br>\n",
    "160 Public Water Supply Zones. Report info only accessible with postcode input; boarders do not align with districts etc.<br>\n",
    "found error messages in pop-up (OK button): \"Error retrieving data or area not covered by Anglian Water\", \"Please provide a valid postcode.\" <br>\n",
    "also possible: This area is covered by '<different water supplier>' ...and more text in iframe <br>\n",
    "<br>\n",
    "15 postcodes from different supply zones, looked up manually, used for proof of concept <br>\n",
    "Info wanted from report: Calcium, Magnesium, Sodium, Chloride, Fluoride, Nitride, Potassium, Fluoride, pH"
   ]
  },
  {
   "cell_type": "code",
   "execution_count": 7,
   "metadata": {},
   "outputs": [],
   "source": [
    "from selenium import webdriver\n",
    "from selenium.webdriver.common.keys import Keys\n",
    "from selenium.webdriver.common.by import By\n",
    "from selenium.webdriver.support.ui import WebDriverWait\n",
    "from selenium.webdriver.support import expected_conditions as EC\n"
   ]
  },
  {
   "cell_type": "code",
   "execution_count": 38,
   "metadata": {},
   "outputs": [],
   "source": [
    "import pandas as pd\n",
    "import re"
   ]
  },
  {
   "cell_type": "code",
   "execution_count": 51,
   "metadata": {},
   "outputs": [
    {
     "name": "stdout",
     "output_type": "stream",
     "text": [
      "['PE31 7LR', 'PE12 7LR', 'PE33 9HP', 'NR19 2TF', 'IP27 9FD', 'NR12 0AN', 'CB6 3NN', 'IP30 0TL', 'PE12 9RW', 'PE10 9NJ', 'NN17 4AP', 'MK42 9DJ', 'NN6 8EH', 'PE29 3DD', 'CO9 1JD']\n"
     ]
    }
   ],
   "source": [
    "# read the postcodes to use from file to a list\n",
    "zone_postcode = pd.read_csv('data/zone_postcode.csv')\n",
    "postcodes = zone_postcode.postcode.to_list()\n",
    "print(postcodes)\n",
    "\n",
    "# initialize data frame to store gathered information\n",
    "headers= ['zone','source','parameter', 'value', 'unit', 'legal_limit','over_legal_limit']\n",
    "nutrients = pd.DataFrame(columns = headers)\n",
    "\n",
    "# specify values and localization of desired values\n",
    "target_values = [\"Calcium\", \"Magnesium\", \"Sodium\", \"Chloride\", \"Fluoride\", \"Nitride\", \"Potassium\", \"Fluoride\", \"pH\"]\n",
    "columns_to_store = [0,5,2,1,7] # see headers after source"
   ]
  },
  {
   "cell_type": "code",
   "execution_count": 52,
   "metadata": {},
   "outputs": [],
   "source": [
    "# set firefox as webdriver\n",
    "driver = webdriver.Firefox()\n",
    "\n",
    "# open website\n",
    "driver.get(\"https://waterquality.anglianwater.com/map.aspx\")\n",
    "\n",
    "# setup wait for later\n",
    "wait = WebDriverWait(driver, 10)\n",
    "\n",
    "# save current window handle\n",
    "window = driver.current_window_handle\n",
    "\n",
    "# loop through the postcodes list\n",
    "for postcode in postcodes:\n",
    "\n",
    "    # find textbox on website, clear, insert postcode and send\n",
    "    text_box = driver.find_element(By.ID, \"frmPostcode\")\n",
    "    text_box.clear()\n",
    "    text_box.send_keys(postcode)\n",
    "    text_box.send_keys(Keys.RETURN)\n",
    "        \n",
    "    # enter imbedded frame,waite for page to load and find report link\n",
    "    driver.switch_to.frame(\"zoneInformation\")\n",
    "    report_link = wait.until(EC.presence_of_element_located((By.LINK_TEXT, \"Drinking Water Quality Report\")))\n",
    "    \n",
    "    # breaks the loop in case of postcode out of Anglian Water Zone\n",
    "    if \"This area is covered by\" in driver.page_source:\n",
    "        break\n",
    "    else:\n",
    "        # find zone information and store just the info between brackets\n",
    "        zone_text = driver.find_element(By.XPATH,\"/html/body/div[3]/p\").text\n",
    "        zone = re.search(r'\\((.*?)\\)', zone_text).group(1)\n",
    "\n",
    "    #clicks the link\n",
    "    report_link.click()\n",
    "\n",
    "    # wait for second window to open\n",
    "    wait.until(EC.number_of_windows_to_be(2))\n",
    "\n",
    "    #loop to make sure the opened report windows is active           \n",
    "    for window_handle in driver.window_handles:\n",
    "        if window_handle != window:\n",
    "            driver.switch_to.window(window_handle)\n",
    "            break\n",
    "\n",
    "    # wait for page load, find and store source information\n",
    "    source =  wait.until(EC.presence_of_element_located((By.XPATH, \"/html/body/div[2]/div/div[5]/dl/dd[2]/p\"))).text\n",
    "    \n",
    "    # find table in report\n",
    "    table = driver.find_element(By.CSS_SELECTOR,\"div.content:nth-child(8) > table:nth-child(1) > tbody:nth-child(2)\")\n",
    "    \n",
    "    # find all rows in the table\n",
    "    rows = table.find_elements(By.TAG_NAME, \"tr\")\n",
    "\n",
    "    #lLoop through target_values list\n",
    "    for target_value in target_values:\n",
    "\n",
    "        # loop through each row of the table and check if the target value is present\n",
    "        for row in rows:\n",
    "\n",
    "            # first cell in the current row\n",
    "            first_cell = row.find_elements(By.TAG_NAME, \"td\")[0]\n",
    "            \n",
    "            # target value in the first cell\n",
    "            if target_value in first_cell.text:\n",
    "                # if found, store the text from specified columns\n",
    "                target_row = [row.find_elements(By.TAG_NAME, \"td\")[index].text for index in columns_to_store]\n",
    "                # store values in a new row of the data frame in the correct columns\n",
    "                nutrients.loc[len(nutrients),['zone','source']] = [zone,source]\n",
    "                nutrients.loc[(len(nutrients)-1),['parameter', 'value', 'unit', 'legal_limit','over_legal_limit']] = target_row\n",
    "\n",
    "    #close current window and switch to original\n",
    "    driver.close()\n",
    "    driver.switch_to.window(window)\n",
    "# closes webdriver after postcode loop\n",
    "driver.close()"
   ]
  },
  {
   "cell_type": "code",
   "execution_count": 53,
   "metadata": {},
   "outputs": [
    {
     "data": {
      "text/html": [
       "<div>\n",
       "<style scoped>\n",
       "    .dataframe tbody tr th:only-of-type {\n",
       "        vertical-align: middle;\n",
       "    }\n",
       "\n",
       "    .dataframe tbody tr th {\n",
       "        vertical-align: top;\n",
       "    }\n",
       "\n",
       "    .dataframe thead th {\n",
       "        text-align: right;\n",
       "    }\n",
       "</style>\n",
       "<table border=\"1\" class=\"dataframe\">\n",
       "  <thead>\n",
       "    <tr style=\"text-align: right;\">\n",
       "      <th></th>\n",
       "      <th>zone</th>\n",
       "      <th>source</th>\n",
       "      <th>parameter</th>\n",
       "      <th>value</th>\n",
       "      <th>unit</th>\n",
       "      <th>legal_limit</th>\n",
       "      <th>over_legal_limit</th>\n",
       "    </tr>\n",
       "  </thead>\n",
       "  <tbody>\n",
       "    <tr>\n",
       "      <th>0</th>\n",
       "      <td>FE44</td>\n",
       "      <td>Your drinking water supply comes from a ground...</td>\n",
       "      <td>Calcium</td>\n",
       "      <td>117.37</td>\n",
       "      <td>mg/l</td>\n",
       "      <td>No legal Limit</td>\n",
       "      <td>0</td>\n",
       "    </tr>\n",
       "    <tr>\n",
       "      <th>1</th>\n",
       "      <td>FE44</td>\n",
       "      <td>Your drinking water supply comes from a ground...</td>\n",
       "      <td>Magnesium</td>\n",
       "      <td>2.864</td>\n",
       "      <td>mg/l</td>\n",
       "      <td>No legal Limit</td>\n",
       "      <td>0</td>\n",
       "    </tr>\n",
       "    <tr>\n",
       "      <th>2</th>\n",
       "      <td>FE44</td>\n",
       "      <td>Your drinking water supply comes from a ground...</td>\n",
       "      <td>Sodium</td>\n",
       "      <td>19.258</td>\n",
       "      <td>mg/l</td>\n",
       "      <td>200</td>\n",
       "      <td>0</td>\n",
       "    </tr>\n",
       "    <tr>\n",
       "      <th>3</th>\n",
       "      <td>FE44</td>\n",
       "      <td>Your drinking water supply comes from a ground...</td>\n",
       "      <td>Chloride</td>\n",
       "      <td>53.2</td>\n",
       "      <td>mg/l</td>\n",
       "      <td>250</td>\n",
       "      <td>0</td>\n",
       "    </tr>\n",
       "    <tr>\n",
       "      <th>4</th>\n",
       "      <td>FE44</td>\n",
       "      <td>Your drinking water supply comes from a ground...</td>\n",
       "      <td>Fluoride</td>\n",
       "      <td>0.1</td>\n",
       "      <td>mg/l</td>\n",
       "      <td>1.5</td>\n",
       "      <td>0</td>\n",
       "    </tr>\n",
       "    <tr>\n",
       "      <th>...</th>\n",
       "      <td>...</td>\n",
       "      <td>...</td>\n",
       "      <td>...</td>\n",
       "      <td>...</td>\n",
       "      <td>...</td>\n",
       "      <td>...</td>\n",
       "      <td>...</td>\n",
       "    </tr>\n",
       "    <tr>\n",
       "      <th>112</th>\n",
       "      <td>FW41</td>\n",
       "      <td>Your drinking water supply comes from a surfac...</td>\n",
       "      <td>Chloride</td>\n",
       "      <td>74.3</td>\n",
       "      <td>mg/l</td>\n",
       "      <td>250</td>\n",
       "      <td>0</td>\n",
       "    </tr>\n",
       "    <tr>\n",
       "      <th>113</th>\n",
       "      <td>FW41</td>\n",
       "      <td>Your drinking water supply comes from a surfac...</td>\n",
       "      <td>Fluoride</td>\n",
       "      <td>0.29</td>\n",
       "      <td>mg/l</td>\n",
       "      <td>1.5</td>\n",
       "      <td>0</td>\n",
       "    </tr>\n",
       "    <tr>\n",
       "      <th>114</th>\n",
       "      <td>FW41</td>\n",
       "      <td>Your drinking water supply comes from a surfac...</td>\n",
       "      <td>Potassium</td>\n",
       "      <td>8.953</td>\n",
       "      <td>mg/l</td>\n",
       "      <td>No legal Limit</td>\n",
       "      <td>0</td>\n",
       "    </tr>\n",
       "    <tr>\n",
       "      <th>115</th>\n",
       "      <td>FW41</td>\n",
       "      <td>Your drinking water supply comes from a surfac...</td>\n",
       "      <td>Fluoride</td>\n",
       "      <td>0.29</td>\n",
       "      <td>mg/l</td>\n",
       "      <td>1.5</td>\n",
       "      <td>0</td>\n",
       "    </tr>\n",
       "    <tr>\n",
       "      <th>116</th>\n",
       "      <td>FW41</td>\n",
       "      <td>Your drinking water supply comes from a surfac...</td>\n",
       "      <td>pH (Hydrogen ion)</td>\n",
       "      <td>7.58</td>\n",
       "      <td>pH value</td>\n",
       "      <td>6.5 - 9.5</td>\n",
       "      <td>0</td>\n",
       "    </tr>\n",
       "  </tbody>\n",
       "</table>\n",
       "<p>117 rows × 7 columns</p>\n",
       "</div>"
      ],
      "text/plain": [
       "     zone                                             source  \\\n",
       "0    FE44  Your drinking water supply comes from a ground...   \n",
       "1    FE44  Your drinking water supply comes from a ground...   \n",
       "2    FE44  Your drinking water supply comes from a ground...   \n",
       "3    FE44  Your drinking water supply comes from a ground...   \n",
       "4    FE44  Your drinking water supply comes from a ground...   \n",
       "..    ...                                                ...   \n",
       "112  FW41  Your drinking water supply comes from a surfac...   \n",
       "113  FW41  Your drinking water supply comes from a surfac...   \n",
       "114  FW41  Your drinking water supply comes from a surfac...   \n",
       "115  FW41  Your drinking water supply comes from a surfac...   \n",
       "116  FW41  Your drinking water supply comes from a surfac...   \n",
       "\n",
       "             parameter   value      unit     legal_limit over_legal_limit  \n",
       "0              Calcium  117.37      mg/l  No legal Limit                0  \n",
       "1            Magnesium   2.864      mg/l  No legal Limit                0  \n",
       "2               Sodium  19.258      mg/l             200                0  \n",
       "3             Chloride    53.2      mg/l             250                0  \n",
       "4             Fluoride     0.1      mg/l             1.5                0  \n",
       "..                 ...     ...       ...             ...              ...  \n",
       "112           Chloride    74.3      mg/l             250                0  \n",
       "113           Fluoride    0.29      mg/l             1.5                0  \n",
       "114          Potassium   8.953      mg/l  No legal Limit                0  \n",
       "115           Fluoride    0.29      mg/l             1.5                0  \n",
       "116  pH (Hydrogen ion)    7.58  pH value       6.5 - 9.5                0  \n",
       "\n",
       "[117 rows x 7 columns]"
      ]
     },
     "execution_count": 53,
     "metadata": {},
     "output_type": "execute_result"
    }
   ],
   "source": [
    "nutrients"
   ]
  },
  {
   "cell_type": "code",
   "execution_count": 62,
   "metadata": {},
   "outputs": [
    {
     "name": "stdout",
     "output_type": "stream",
     "text": [
      "<class 'pandas.core.frame.DataFrame'>\n",
      "Int64Index: 117 entries, 0 to 116\n",
      "Data columns (total 7 columns):\n",
      " #   Column            Non-Null Count  Dtype  \n",
      "---  ------            --------------  -----  \n",
      " 0   zone              117 non-null    object \n",
      " 1   source            117 non-null    object \n",
      " 2   parameter         117 non-null    object \n",
      " 3   value             117 non-null    float64\n",
      " 4   unit              117 non-null    object \n",
      " 5   legal_limit       117 non-null    object \n",
      " 6   over_legal_limit  117 non-null    object \n",
      "dtypes: float64(1), object(6)\n",
      "memory usage: 11.4+ KB\n"
     ]
    }
   ],
   "source": [
    "nutrients.info()"
   ]
  },
  {
   "cell_type": "code",
   "execution_count": 60,
   "metadata": {},
   "outputs": [],
   "source": [
    "# '<' means :Below the limit of detection of the analysis. For the purpose of this analysis the sign is just ignored\n",
    "nutrients.value = nutrients.value.str.replace('<','')"
   ]
  },
  {
   "cell_type": "code",
   "execution_count": 61,
   "metadata": {},
   "outputs": [],
   "source": [
    "nutrients.value = pd.to_numeric(nutrients.value)"
   ]
  },
  {
   "cell_type": "code",
   "execution_count": 54,
   "metadata": {},
   "outputs": [
    {
     "name": "stdout",
     "output_type": "stream",
     "text": [
      "The anglian_nutrients table was imported successfully.\n"
     ]
    }
   ],
   "source": [
    "from sql_functions import upload\n",
    "\n",
    "upload(nutrients,'anglian_nutrients')"
   ]
  },
  {
   "cell_type": "code",
   "execution_count": 63,
   "metadata": {},
   "outputs": [
    {
     "data": {
      "text/plain": [
       "parameter\n",
       "Calcium              109.300267\n",
       "Chloride              56.140000\n",
       "Fluoride               0.226067\n",
       "Magnesium              5.968067\n",
       "Potassium              3.385583\n",
       "Sodium                25.476733\n",
       "pH (Hydrogen ion)      7.498667\n",
       "Name: value, dtype: float64"
      ]
     },
     "execution_count": 63,
     "metadata": {},
     "output_type": "execute_result"
    }
   ],
   "source": [
    "nutrients.groupby('parameter')['value'].mean()"
   ]
  }
 ],
 "metadata": {
  "kernelspec": {
   "display_name": "sql",
   "language": "python",
   "name": "python3"
  },
  "language_info": {
   "codemirror_mode": {
    "name": "ipython",
    "version": 3
   },
   "file_extension": ".py",
   "mimetype": "text/x-python",
   "name": "python",
   "nbconvert_exporter": "python",
   "pygments_lexer": "ipython3",
   "version": "3.9.18"
  }
 },
 "nbformat": 4,
 "nbformat_minor": 2
}
